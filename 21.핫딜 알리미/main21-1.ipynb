{
 "cells": [
  {
   "cell_type": "code",
   "execution_count": 12,
   "metadata": {},
   "outputs": [
    {
     "name": "stderr",
     "output_type": "stream",
     "text": [
      "C:\\Users\\kimheonju\\AppData\\Local\\Temp\\ipykernel_10976\\3112766323.py:4: DeprecationWarning: executable_path has been deprecated, please pass in a Service object\n",
      "  driver = webdriver.Chrome(ChromeDriverManager().install())\n"
     ]
    }
   ],
   "source": [
    "from webdriver_manager.chrome import ChromeDriverManager\n",
    "from selenium import webdriver\n",
    "\n",
    "driver = webdriver.Chrome(ChromeDriverManager().install())\n",
    "\n",
    "driver.get(url = 'https://www.ppomppu.co.kr/zboard/zboard.php?id=ppomppu')\n",
    "\n",
    "driver.implicitly_wait(time_to_wait=10)"
   ]
  },
  {
   "cell_type": "code",
   "execution_count": 13,
   "metadata": {},
   "outputs": [
    {
     "name": "stdout",
     "output_type": "stream",
     "text": [
      "[위메프] 정품 한라봉 중대과 6kg (30,300원/무료)\n",
      "https://www.ppomppu.co.kr/zboard/view.php?id=ppomppu&page=1&divpage=77&no=453725\n",
      "[네이버] 나뚜루 파인트 1+1 (12,900원/배송비 무료)\n",
      "https://www.ppomppu.co.kr/zboard/view.php?id=ppomppu&page=1&divpage=77&no=453724\n",
      "[네이버] 양심선언 양꼬치 320g 데리야끼/소금구이 2종 (9,900원/1.5만이상무료)\n",
      "https://www.ppomppu.co.kr/zboard/view.php?id=ppomppu&page=1&divpage=77&no=453722\n",
      "[G마켓] 임실농협 행복드림 상등급 당일도정 20kg (44,220원/무료)\n",
      "https://www.ppomppu.co.kr/zboard/view.php?id=ppomppu&page=1&divpage=77&no=453721\n",
      "[위메프] 쿠캣 초코쏙찹쌀떡 1+1 (9,900/무료)\n",
      "https://www.ppomppu.co.kr/zboard/view.php?id=ppomppu&page=1&divpage=77&no=453720\n",
      "[네이버] 식기세척기 전용세제 20g 30개(4,000원/3,000원)\n",
      "https://www.ppomppu.co.kr/zboard/view.php?id=ppomppu&page=1&divpage=77&no=453719\n",
      "[11번가] 화이트 리넨라이크 셔츠 (6,900원~/ 무배)\n",
      "https://www.ppomppu.co.kr/zboard/view.php?id=ppomppu&page=1&divpage=77&no=453718\n",
      "[지마켓] 윤남텍 초음파 가습기 (65,600/무료)\n",
      "https://www.ppomppu.co.kr/zboard/view.php?id=ppomppu&page=1&divpage=77&no=453717\n",
      "[G마켓] 아이깨끗해 4.5L 대용량 +사은품 시스테마음파진동칫솔(레귤러) (22,900원/무배)\n",
      "https://www.ppomppu.co.kr/zboard/view.php?id=ppomppu&page=1&divpage=77&no=453716\n",
      "[베베숲] 시그니처그린 물티슈70매 20팩(22990/무료/신규가입시22990)\n",
      "https://www.ppomppu.co.kr/zboard/view.php?id=ppomppu&page=1&divpage=77&no=453715\n",
      "[지마켓] 밥상마루 참기름/들기름 350ml 1+1 (16,070원/무료)\n",
      "https://www.ppomppu.co.kr/zboard/view.php?id=ppomppu&page=1&divpage=77&no=453714\n",
      "[KB국카몰] 북앤라이프 모바일 도서문화상품권 5만원 (46,000원/무료)\n",
      "https://www.ppomppu.co.kr/zboard/view.php?id=ppomppu&page=1&divpage=77&no=453713\n",
      "[G마켓] 쏜리서치 글루타치온 60캡슐 2병+나이아신아마이드 180캡슐 2병 (스클 90,240원/무료)\n",
      "https://www.ppomppu.co.kr/zboard/view.php?id=ppomppu&page=1&divpage=77&no=453712\n",
      "[지마켓]수제 휘낭시에 3종 30개입(21000원/무배)\n",
      "https://www.ppomppu.co.kr/zboard/view.php?id=ppomppu&page=1&divpage=77&no=453711\n",
      "[티몬]제주 천혜향 2kg 실중량 (9,900/무료)\n",
      "https://www.ppomppu.co.kr/zboard/view.php?id=ppomppu&page=1&divpage=77&no=453710\n",
      "[SK스토아] 라코스테 코튼 플리스 조거팬츠/트랙팬츠 2종 택1(46,550원/무료)\n",
      "https://www.ppomppu.co.kr/zboard/view.php?id=ppomppu&page=1&divpage=77&no=453709\n",
      "[네이버스마트스토어]연세 키짱 유산균 음료 190ml 24팩 (9.900원/무료배송)\n",
      "https://www.ppomppu.co.kr/zboard/view.php?id=ppomppu&page=1&divpage=77&no=453708\n",
      "[롯데온] 청송 세척사과 4kg 18-22과 (15,920원/무료)\n",
      "https://www.ppomppu.co.kr/zboard/view.php?id=ppomppu&page=1&divpage=77&no=453707\n",
      "[지마켓]네이처드림 루테인 지아잔틴 30캡슐 4박스 (20,900원/무료)\n",
      "https://www.ppomppu.co.kr/zboard/view.php?id=ppomppu&page=1&divpage=77&no=453706\n",
      "스마트스토어 크리미 고양이 두부모래 2.5kg x 6 22,860원 / 3000원\n",
      "https://www.ppomppu.co.kr/zboard/view.php?id=ppomppu&page=1&divpage=77&no=453705\n",
      "HP OMEN 45L gt22-1008KR & 25L gt14-1001KR 신규 런칭 기념 더블업이벤트\n",
      "https://www.ppomppu.co.kr/zboard/view.php?id=pmarket&&no=283183\n",
      "[티몬] 갤럭시 S23+A33 라이브 특가! 최대 12%할인+신세계+정품충전기 대박 사은품!\n",
      "https://www.ppomppu.co.kr/zboard/view.php?id=pmarket&&no=283159\n",
      "[테스트밸리]갤럭시 S23 자급제 정식런칭 [12% 할인 + 신세계상품권 1만원 증정 + 한달무료리턴서비스]\n",
      "https://www.ppomppu.co.kr/zboard/view.php?id=pmarket&&no=283172\n",
      "글로리어스, 신학기 이벤트로 만나는 마인크래프트 마우스 특가 이벤트!\n",
      "https://www.ppomppu.co.kr/zboard/view.php?id=pmarket&&no=283180\n",
      "키엘 전품목 15% 할인 (89,250원)\n",
      "https://www.ppomppu.co.kr/hotdeal/?no=25448653\n",
      "락토핏 딜\n",
      "https://www.ppomppu.co.kr/zboard/view.php?id=social&no=36229\n",
      "화장지 딜이 은근 없군요\n",
      "https://www.ppomppu.co.kr/zboard/view.php?id=social&no=36228\n",
      "요새 정원이샵/정원e샵 어떻게 이용하시나요?\n",
      "https://www.ppomppu.co.kr/zboard/view.php?id=social&no=36227\n"
     ]
    }
   ],
   "source": [
    "from selenium.webdriver.common.by import By\n",
    "\n",
    "titles = driver.find_elements(By.CSS_SELECTOR, '#revolution_main_table > tbody > tr > td:nth-child(3) > table > tbody > tr > td:nth-child(2) > div > a > font')\n",
    "\n",
    "urls = driver.find_elements(By.CSS_SELECTOR, '#revolution_main_table > tbody > tr > td:nth-child(3) > table > tbody > tr > td:nth-child(2) > div > a ')\n",
    "\n",
    "for i in range(len(titles)):\n",
    "    print(titles[i].text)\n",
    "    print(urls[i].get_attribute('href'))"
   ]
  },
  {
   "cell_type": "code",
   "execution_count": 15,
   "metadata": {},
   "outputs": [
    {
     "name": "stdout",
     "output_type": "stream",
     "text": [
      "[위메프] 정품 한라봉 중대과 6kg (30,300원/무료)\n",
      "https://www.ppomppu.co.kr/zboard/view.php?id=ppomppu&page=1&divpage=77&no=453725\n"
     ]
    },
    {
     "name": "stderr",
     "output_type": "stream",
     "text": [
      "C:\\Users\\kimheonju\\AppData\\Local\\Temp\\ipykernel_10976\\2272767098.py:10: RuntimeWarning: coroutine 'Bot.send_message' was never awaited\n",
      "  bot.sendMessage(chat_id = id, text=message)\n",
      "RuntimeWarning: Enable tracemalloc to get the object allocation traceback\n"
     ]
    }
   ],
   "source": [
    "import telegram\n",
    "message = \"\"\n",
    "for i in range(len(titles)):\n",
    "    if '한라봉' in titles[i].text:\n",
    "        message = titles[i].text + \"\\n\" + urls[i].get_attribute('href')\n",
    "        print(message)\n",
    "        token = \"2147448681:AAF54C5_5U7nKqwKvwnbI9n4Dr6m5GmicbY\"\n",
    "        id = \"730238165\"\n",
    "        bot = telegram.Bot(token)\n",
    "        bot.sendMessage(chat_id = id, text=message)"
   ]
  },
  {
   "cell_type": "code",
   "execution_count": null,
   "metadata": {},
   "outputs": [],
   "source": []
  }
 ],
 "metadata": {
  "kernelspec": {
   "display_name": "base",
   "language": "python",
   "name": "python3"
  },
  "language_info": {
   "codemirror_mode": {
    "name": "ipython",
    "version": 3
   },
   "file_extension": ".py",
   "mimetype": "text/x-python",
   "name": "python",
   "nbconvert_exporter": "python",
   "pygments_lexer": "ipython3",
   "version": "3.9.13"
  },
  "orig_nbformat": 4,
  "vscode": {
   "interpreter": {
    "hash": "f40d859618039eaf25f10e09d26cebd4f90aa088d7e680424ac9a42cd0dc1df2"
   }
  }
 },
 "nbformat": 4,
 "nbformat_minor": 2
}
