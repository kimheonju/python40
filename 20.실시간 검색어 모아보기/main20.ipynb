{
 "cells": [
  {
   "cell_type": "code",
   "execution_count": 1,
   "metadata": {},
   "outputs": [
    {
     "name": "stderr",
     "output_type": "stream",
     "text": [
      "C:\\Users\\kimheonju\\AppData\\Local\\Temp\\ipykernel_17324\\1633609323.py:4: DeprecationWarning: executable_path has been deprecated, please pass in a Service object\n",
      "  driver = webdriver.Chrome(ChromeDriverManager().install())\n"
     ]
    }
   ],
   "source": [
    "from webdriver_manager.chrome import ChromeDriverManager\n",
    "from selenium import webdriver\n",
    "\n",
    "driver = webdriver.Chrome(ChromeDriverManager().install())\n",
    "\n",
    "URL = \"https://www.google.co.kr\"\n",
    "driver.get(url=URL)\n",
    "driver.implicitly_wait(time_to_wait=10)"
   ]
  },
  {
   "cell_type": "code",
   "execution_count": 3,
   "metadata": {},
   "outputs": [
    {
     "name": "stdout",
     "output_type": "stream",
     "text": [
      "이재명 체포동의안 국회\n",
      "노란 봉투법\n",
      "송중기\n",
      "박규리 혐의에 조사\n",
      "천하람\n",
      "최자\n",
      "공수처 서울경찰청 압수수색\n",
      "강형욱\n",
      "스마트폰을 떨어뜨렸을 뿐인데\n",
      "마약범죄 특별수사팀 출범\n"
     ]
    }
   ],
   "source": [
    "from selenium.webdriver.common.by import By\n",
    "\n",
    "URL='https://signal.bz/news'\n",
    "driver.get(url=URL)\n",
    "driver.implicitly_wait(time_to_wait=10)\n",
    "\n",
    "naver_results = driver.find_elements(By.CSS_SELECTOR, \"#app > div > main > div > section > div > section > section:nth-child(2) > div:nth-child(2) > div > div > div > a > span.rank-text\")\n",
    "\n",
    "naver_list = []\n",
    "for naver_result in naver_results:\n",
    "    print(naver_result.text)\n",
    "    naver_list.append(naver_result.text)"
   ]
  },
  {
   "cell_type": "code",
   "execution_count": null,
   "metadata": {},
   "outputs": [],
   "source": [
    "URL = 'https://www.nate.com'\n",
    "driver.get(url=URL)\n",
    "driver.implicitly_wait(time_to_wait=10)\n",
    "\n",
    "driver.find_element(By.CSS_SELECTOR, \"#olLiveIssueKeyword > li:nth-child(1) > a > span.txt_rank\").click()\n",
    "\n",
    "nate_results = driver.find_elements(By.CSS_SELECTOR, \"#search-option > form:nth-child(1) > fieldset > div.issue-kwd > span > a\")\n",
    "\n",
    "nate_list = []\n",
    "for nate_result in nate_results:\n",
    "    print(nate_result.text)\n",
    "    nate_list.append(nate_result.text)"
   ]
  },
  {
   "cell_type": "code",
   "execution_count": null,
   "metadata": {},
   "outputs": [],
   "source": [
    "import time\n",
    "\n",
    "URL = 'https://zum.com'\n",
    "\n",
    "driver.get(url = URL)\n",
    "driver.implicitly_wait(time_to_wait=10)\n",
    "\n",
    "driver.find_element(By.CSS_SELECTOR, \"#app > div > header > div.search_bar > div > field-set > div > input[type=text]\").send_keys(\"아무거나 검색\")\n",
    "time.sleep(0.5)\n",
    "driver.find_element(By.CSS_SELECTOR, \"#app > div > header > div.search_bar > div > field-set > div > button.search\").click()\n",
    "\n",
    "zoom_results = driver.find_elements(By.CSS_SELECTOR, \"#issue_wrap > ul > li > div > a:nth-child(1) > span.txt\")\n",
    "\n",
    "zoom_list = []\n",
    "for zoom_result in zoom_results:\n",
    "    print(zoom_result.text)\n",
    "    zoom_list.append(zoom_result.text)"
   ]
  },
  {
   "cell_type": "code",
   "execution_count": 39,
   "metadata": {},
   "outputs": [
    {
     "name": "stdout",
     "output_type": "stream",
     "text": [
      "네이버 ['이재명 체포동의안 국회', '노란 봉투법', '송중기', '박규리 혐의에 조사', '천하람', '최자', '공수처 서울경찰청 압수수색', '강형욱', '스마트폰을 떨어뜨렸을 뿐인데', '마약범죄 특별수사팀 출범']\n",
      "네이트 ['이재명 체포동의안 국회', '노란 봉투법', '박규리 혐의에 조사', '공수처 서울경찰청 압수수색', '마약범죄 특별수사팀 출범', 'RAV4 플러그인', '건강보험 자격 인정', '', '', '']\n"
     ]
    }
   ],
   "source": [
    "print(\"네이버\", naver_list)\n",
    "print(\"네이트\", nate_list)"
   ]
  }
 ],
 "metadata": {
  "kernelspec": {
   "display_name": "base",
   "language": "python",
   "name": "python3"
  },
  "language_info": {
   "codemirror_mode": {
    "name": "ipython",
    "version": 3
   },
   "file_extension": ".py",
   "mimetype": "text/x-python",
   "name": "python",
   "nbconvert_exporter": "python",
   "pygments_lexer": "ipython3",
   "version": "3.9.13"
  },
  "orig_nbformat": 4,
  "vscode": {
   "interpreter": {
    "hash": "f40d859618039eaf25f10e09d26cebd4f90aa088d7e680424ac9a42cd0dc1df2"
   }
  }
 },
 "nbformat": 4,
 "nbformat_minor": 2
}
